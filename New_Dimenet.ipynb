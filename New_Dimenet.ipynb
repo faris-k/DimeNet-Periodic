{
  "nbformat": 4,
  "nbformat_minor": 0,
  "metadata": {
    "colab": {
      "name": "New Dimenet.ipynb",
      "provenance": [],
      "collapsed_sections": [],
      "toc_visible": true,
      "authorship_tag": "ABX9TyNvRcHU3uPPC8L+wAJWoD5N",
      "include_colab_link": true
    },
    "kernelspec": {
      "name": "python3",
      "display_name": "Python 3"
    },
    "language_info": {
      "name": "python"
    },
    "accelerator": "GPU"
  },
  "cells": [
    {
      "cell_type": "markdown",
      "metadata": {
        "id": "view-in-github",
        "colab_type": "text"
      },
      "source": [
        "<a href=\"https://colab.research.google.com/github/faris-k/DimeNet-Periodic/blob/main/New_Dimenet.ipynb\" target=\"_parent\"><img src=\"https://colab.research.google.com/assets/colab-badge.svg\" alt=\"Open In Colab\"/></a>"
      ]
    },
    {
      "cell_type": "code",
      "metadata": {
        "id": "HbFA2RG9VY5T",
        "colab": {
          "base_uri": "https://localhost:8080/"
        },
        "outputId": "add50e02-68da-4129-c77e-03ab7c13a867"
      },
      "source": [
        "# Install pytorch geometric\n",
        "!pip install -q torch-scatter -f https://pytorch-geometric.com/whl/torch-1.8.0+cu101.html\n",
        "!pip install -q torch-sparse -f https://pytorch-geometric.com/whl/torch-1.8.0+cu101.html\n",
        "!pip install -q torch-cluster -f https://pytorch-geometric.com/whl/torch-1.8.0+cu101.html\n",
        "!pip install -q torch-spline-conv -f https://pytorch-geometric.com/whl/torch-1.8.0+cu101.html\n",
        "!pip install -q torch-geometric"
      ],
      "execution_count": 1,
      "outputs": [
        {
          "output_type": "stream",
          "text": [
            "\u001b[K     |████████████████████████████████| 2.6MB 343kB/s \n",
            "\u001b[K     |████████████████████████████████| 1.5MB 8.1MB/s \n",
            "\u001b[K     |████████████████████████████████| 1.0MB 6.0MB/s \n",
            "\u001b[K     |████████████████████████████████| 389kB 7.7MB/s \n",
            "\u001b[K     |████████████████████████████████| 215kB 7.3MB/s \n",
            "\u001b[K     |████████████████████████████████| 235kB 11.5MB/s \n",
            "\u001b[K     |████████████████████████████████| 2.2MB 14.4MB/s \n",
            "\u001b[K     |████████████████████████████████| 51kB 7.8MB/s \n",
            "\u001b[?25h  Building wheel for torch-geometric (setup.py) ... \u001b[?25l\u001b[?25hdone\n"
          ],
          "name": "stdout"
        }
      ]
    },
    {
      "cell_type": "code",
      "metadata": {
        "id": "l2JKGZ2mV6WA"
      },
      "source": [
        "from __future__ import division\n",
        "from __future__ import unicode_literals\n",
        "import os\n",
        "# import os.path as osp\n",
        "import numpy as np\n",
        "import pandas as pd\n",
        "import sympy as sym\n",
        "import torch\n",
        "import datetime\n",
        "import math\n",
        "from math import sqrt, pi as PI\n",
        "from tqdm import tqdm\n",
        "\n",
        "import torch.nn as nn\n",
        "from torch.nn import Linear, Embedding\n",
        "\n",
        "import torch.optim as optim\n",
        "\n",
        "from torch_sparse import SparseTensor\n",
        "from torch_scatter import scatter\n",
        "import torch_cluster\n",
        "\n",
        "from torch_geometric.nn import radius_graph\n",
        "from torch_geometric.nn.acts import swish\n",
        "from torch_geometric.nn.inits import glorot_orthogonal\n",
        "from torch_geometric.nn.models.dimenet_utils import bessel_basis, real_sph_harm\n",
        "\n",
        "from torch_geometric.data import Data, DataLoader\n",
        "\n",
        "from sklearn.metrics import r2_score, mean_absolute_error as MAE\n",
        "from torch.optim.optimizer import Optimizer, required\n",
        "import torch\n",
        "\n",
        "from scipy import stats\n",
        "import matplotlib.pyplot as plt\n",
        "from matplotlib.ticker import AutoMinorLocator\n",
        "plt.rcParams.update({'font.size': 20})"
      ],
      "execution_count": 2,
      "outputs": []
    },
    {
      "cell_type": "code",
      "metadata": {
        "colab": {
          "base_uri": "https://localhost:8080/"
        },
        "id": "LFe_gtGrcjIP",
        "outputId": "7bbde03c-9d0b-42c4-8020-ba681a9d04dd"
      },
      "source": [
        "from google.colab import drive\n",
        "drive.mount('/content/drive')"
      ],
      "execution_count": 3,
      "outputs": [
        {
          "output_type": "stream",
          "text": [
            "Mounted at /content/drive\n"
          ],
          "name": "stdout"
        }
      ]
    },
    {
      "cell_type": "code",
      "metadata": {
        "id": "IFexiQ2NWJh-"
      },
      "source": [
        "class Envelope(torch.nn.Module):\n",
        "    def __init__(self, exponent):\n",
        "        super(Envelope, self).__init__()\n",
        "        self.p = exponent + 1\n",
        "        self.a = -(self.p + 1) * (self.p + 2) / 2\n",
        "        self.b = self.p * (self.p + 2)\n",
        "        self.c = -self.p * (self.p + 1) / 2\n",
        "\n",
        "    def forward(self, x):\n",
        "        p, a, b, c = self.p, self.a, self.b, self.c\n",
        "        x_pow_p0 = x.pow(p - 1)\n",
        "        x_pow_p1 = x_pow_p0 * x\n",
        "        x_pow_p2 = x_pow_p1 * x\n",
        "        return 1. / x + a * x_pow_p0 + b * x_pow_p1 + c * x_pow_p2\n",
        "\n",
        "\n",
        "class BesselBasisLayer(torch.nn.Module):\n",
        "    def __init__(self, num_radial, cutoff=5.0, envelope_exponent=5):\n",
        "        super(BesselBasisLayer, self).__init__()\n",
        "        self.cutoff = cutoff\n",
        "        self.envelope = Envelope(envelope_exponent)\n",
        "\n",
        "        # Initialize frequencies at canonical positions\n",
        "        self.freq = torch.nn.Parameter(torch.Tensor(num_radial))\n",
        "\n",
        "        self.reset_parameters()\n",
        "\n",
        "    def reset_parameters(self):\n",
        "        torch.arange(1, self.freq.numel() + 1, out=self.freq).mul_(PI)\n",
        "\n",
        "    def forward(self, dist):\n",
        "        dist = dist.unsqueeze(-1) / self.cutoff\n",
        "        return self.envelope(dist) * (self.freq * dist).sin()\n",
        "\n",
        "\n",
        "class SphericalBasisLayer(torch.nn.Module):\n",
        "    def __init__(self, num_spherical, num_radial, cutoff=5.0,\n",
        "                 envelope_exponent=5):\n",
        "        super(SphericalBasisLayer, self).__init__()\n",
        "        assert num_radial <= 64\n",
        "        self.num_spherical = num_spherical\n",
        "        self.num_radial = num_radial\n",
        "        self.cutoff = cutoff\n",
        "        self.envelope = Envelope(envelope_exponent)\n",
        "\n",
        "        bessel_forms = bessel_basis(num_spherical, num_radial)\n",
        "        sph_harm_forms = real_sph_harm(num_spherical)\n",
        "        self.sph_funcs = []\n",
        "        self.bessel_funcs = []\n",
        "\n",
        "        x, theta = sym.symbols('x theta')\n",
        "        modules = {'sin': torch.sin, 'cos': torch.cos}\n",
        "        for i in range(num_spherical):\n",
        "            if i == 0:\n",
        "                sph1 = sym.lambdify([theta], sph_harm_forms[i][0], modules)(0)\n",
        "                self.sph_funcs.append(lambda x: torch.zeros_like(x) + sph1)\n",
        "            else:\n",
        "                sph = sym.lambdify([theta], sph_harm_forms[i][0], modules)\n",
        "                self.sph_funcs.append(sph)\n",
        "            for j in range(num_radial):\n",
        "                bessel = sym.lambdify([x], bessel_forms[i][j], modules)\n",
        "                self.bessel_funcs.append(bessel)\n",
        "\n",
        "    def forward(self, dist, angle, idx_kj):\n",
        "        dist = dist / self.cutoff\n",
        "        rbf = torch.stack([f(dist) for f in self.bessel_funcs], dim=1)\n",
        "        rbf = self.envelope(dist).unsqueeze(-1) * rbf\n",
        "\n",
        "        cbf = torch.stack([f(angle) for f in self.sph_funcs], dim=1)\n",
        "\n",
        "        n, k = self.num_spherical, self.num_radial\n",
        "        out = (rbf[idx_kj].view(-1, n, k) * cbf.view(-1, n, 1)).view(-1, n * k)\n",
        "        return out\n",
        "\n",
        "\n",
        "class Embedder(nn.Module):\n",
        "    def __init__(self,\n",
        "                 d_model,\n",
        "                 compute_device=None):\n",
        "        super().__init__()\n",
        "        self.d_model = d_model\n",
        "        self.compute_device = torch.device('cuda')\n",
        "\n",
        "        # mat2vec element embeddings\n",
        "        cbfv = pd.read_csv('drive/My Drive/DimeNet/mat2vec.csv',\n",
        "                           index_col=0).values\n",
        "        feat_size = cbfv.shape[-1]\n",
        "        self.fc_mat2vec = nn.Linear(feat_size,\n",
        "                                    self.d_model).to(self.compute_device)\n",
        "        zeros = np.zeros((1, feat_size))\n",
        "        cat_array = np.concatenate([zeros, cbfv])\n",
        "        cat_array = torch.as_tensor(cat_array, dtype=torch.float)\n",
        "        self.cbfv = nn.Embedding.from_pretrained(cat_array) \\\n",
        "            .to(self.compute_device, dtype=torch.float)\n",
        "\n",
        "    def forward(self, src, i):\n",
        "        mat2vec_emb = self.cbfv(src)  # src is tensor of z\n",
        "        x_emb = self.fc_mat2vec(mat2vec_emb[i])  # put it through the network\n",
        "        return x_emb  # the 128 thing (hidden_channels)\n",
        "\n",
        "\n",
        "class EmbeddingBlock(torch.nn.Module):\n",
        "    def __init__(self, num_radial, hidden_channels, act=swish):\n",
        "        super(EmbeddingBlock, self).__init__()\n",
        "        self.act = act\n",
        "\n",
        "        self.emb = Embedding(119, hidden_channels)\n",
        "        self.lin_rbf = Linear(num_radial, hidden_channels)\n",
        "        self.lin = Linear(3 * hidden_channels, hidden_channels)\n",
        "\n",
        "        self.reset_parameters()\n",
        "\n",
        "    def reset_parameters(self):\n",
        "        self.emb.weight.data.uniform_(-sqrt(3), sqrt(3))\n",
        "        self.lin_rbf.reset_parameters()\n",
        "        self.lin.reset_parameters()\n",
        "\n",
        "    def forward(self, x, rbf, i, j):\n",
        "        x = self.emb(x)\n",
        "        rbf = self.act(self.lin_rbf(rbf))\n",
        "        return self.act(self.lin(torch.cat([x[i], x[j], rbf], dim=-1)))\n",
        "\n",
        "\n",
        "class ResidualLayer(torch.nn.Module):\n",
        "    def __init__(self, hidden_channels, act=swish):\n",
        "        super(ResidualLayer, self).__init__()\n",
        "        self.act = act\n",
        "        self.lin1 = Linear(hidden_channels, hidden_channels)\n",
        "        self.lin2 = Linear(hidden_channels, hidden_channels)\n",
        "\n",
        "        self.reset_parameters()\n",
        "\n",
        "    def reset_parameters(self):\n",
        "        glorot_orthogonal(self.lin1.weight, scale=2.0)\n",
        "        self.lin1.bias.data.fill_(0)\n",
        "        glorot_orthogonal(self.lin2.weight, scale=2.0)\n",
        "        self.lin2.bias.data.fill_(0)\n",
        "\n",
        "    def forward(self, x):\n",
        "        return x + self.act(self.lin2(self.act(self.lin1(x))))\n",
        "\n",
        "\n",
        "class InteractionBlock(torch.nn.Module):\n",
        "    def __init__(self, hidden_channels, int_emb_size, basis_emb_size,\n",
        "                 num_bilinear, num_spherical, num_radial, num_before_skip,\n",
        "                 num_after_skip, act=swish):\n",
        "        super(InteractionBlock, self).__init__()\n",
        "        self.act = act\n",
        "\n",
        "        # Transformations of Bessel and spherical basis representations\n",
        "        self.lin_rbf1 = Linear(num_radial, basis_emb_size, bias=False)\n",
        "        self.lin_rbf2 = Linear(basis_emb_size, hidden_channels, bias=False)\n",
        "\n",
        "        self.lin_sbf1 = Linear(num_radial * num_spherical, basis_emb_size,\n",
        "                               bias=False)\n",
        "        self.lin_sbf2 = Linear(basis_emb_size, int_emb_size,\n",
        "                               bias=False)\n",
        "\n",
        "        # Dense transformations of input messages.\n",
        "        self.lin_kj = Linear(hidden_channels, hidden_channels)\n",
        "        self.lin_ji = Linear(hidden_channels, hidden_channels)\n",
        "\n",
        "        # Embedding projections for interaction triplets\n",
        "        self.down_projection = Linear(hidden_channels, int_emb_size,\n",
        "                                      bias=False)\n",
        "        self.up_projection = Linear(int_emb_size, hidden_channels, bias=False)\n",
        "\n",
        "        # Residual layers before skip connection\n",
        "        self.layers_before_skip = torch.nn.ModuleList([\n",
        "            ResidualLayer(hidden_channels, act) for _ in range(num_before_skip)\n",
        "        ])\n",
        "        self.lin = Linear(hidden_channels, hidden_channels)  # last before skip\n",
        "\n",
        "        # Residual layers after skip connection\n",
        "        self.layers_after_skip = torch.nn.ModuleList([\n",
        "            ResidualLayer(hidden_channels, act) for _ in range(num_after_skip)\n",
        "        ])\n",
        "\n",
        "        self.reset_parameters()\n",
        "\n",
        "    def reset_parameters(self):\n",
        "        glorot_orthogonal(self.lin_rbf1.weight, scale=2.0)\n",
        "        glorot_orthogonal(self.lin_rbf2.weight, scale=2.0)\n",
        "        glorot_orthogonal(self.lin_sbf1.weight, scale=2.0)\n",
        "        glorot_orthogonal(self.lin_sbf2.weight, scale=2.0)\n",
        "\n",
        "        glorot_orthogonal(self.lin_kj.weight, scale=2.0)\n",
        "        self.lin_kj.bias.data.fill_(0)\n",
        "        glorot_orthogonal(self.lin_ji.weight, scale=2.0)\n",
        "        self.lin_ji.bias.data.fill_(0)\n",
        "\n",
        "        glorot_orthogonal(self.down_projection.weight, scale=2.0)\n",
        "        glorot_orthogonal(self.up_projection.weight, scale=2.0)\n",
        "\n",
        "        for res_layer in self.layers_before_skip:\n",
        "            res_layer.reset_parameters()\n",
        "        glorot_orthogonal(self.lin.weight, scale=2.0)\n",
        "        self.lin.bias.data.fill_(0)\n",
        "        for res_layer in self.layers_after_skip:\n",
        "            res_layer.reset_parameters()\n",
        "\n",
        "    def forward(self, x, rbf, sbf, idx_kj, idx_ji):\n",
        "        # Initial transformation\n",
        "        x_ji = self.act(self.lin_ji(x))\n",
        "        x_kj = self.act(self.lin_kj(x))\n",
        "\n",
        "        # Transform via Bessel basis\n",
        "        rbf = self.lin_rbf1(rbf)\n",
        "        rbf = self.lin_rbf2(rbf)\n",
        "        x_kj = x_kj * rbf\n",
        "\n",
        "        # Down-project embeddings and generate interaction triplet embeddings\n",
        "        x_kj = self.act(self.down_projection(x_kj))\n",
        "\n",
        "        # Transform via 2D spherical basis\n",
        "        sbf = self.lin_sbf1(sbf)\n",
        "        sbf = self.lin_sbf2(sbf)\n",
        "        x_kj = x_kj[idx_kj] * sbf\n",
        "\n",
        "        # Aggregate interactions and up-project embeddings\n",
        "        x_kj = scatter(x_kj, idx_ji, dim=0, dim_size=x.size(0))\n",
        "        x_kj = self.up_projection(x_kj)\n",
        "\n",
        "        # Transformations before skip connection\n",
        "        h = x_ji + x_kj\n",
        "        for layer in self.layers_before_skip:\n",
        "            h = layer(h)\n",
        "        h = self.act(self.lin(h)) + x\n",
        "\n",
        "        # Transformations after skip connection\n",
        "        for layer in self.layers_after_skip:\n",
        "            h = layer(h)\n",
        "\n",
        "        return h\n",
        "\n",
        "\n",
        "class OutputBlock(torch.nn.Module):\n",
        "    def __init__(self, num_radial, hidden_channels, out_emb_size,\n",
        "                 out_channels, num_layers, act=swish):\n",
        "        super(OutputBlock, self).__init__()\n",
        "        self.act = act\n",
        "\n",
        "        self.lin_rbf = Linear(num_radial, hidden_channels, bias=False)\n",
        "\n",
        "        self.up_projection = Linear(hidden_channels, out_emb_size, bias=False)\n",
        "\n",
        "        self.lins = torch.nn.ModuleList()\n",
        "        for _ in range(num_layers):\n",
        "            self.lins.append(Linear(out_emb_size, out_emb_size))\n",
        "        self.lin = Linear(out_emb_size, out_channels, bias=False)\n",
        "\n",
        "        self.reset_parameters()\n",
        "\n",
        "    def reset_parameters(self):\n",
        "        glorot_orthogonal(self.lin_rbf.weight, scale=2.0)\n",
        "        glorot_orthogonal(self.up_projection.weight, scale=2.0)\n",
        "        for lin in self.lins:\n",
        "            glorot_orthogonal(lin.weight, scale=2.0)\n",
        "            lin.bias.data.fill_(0)\n",
        "        self.lin.weight.data.fill_(0)\n",
        "\n",
        "    def forward(self, x, rbf, i, num_nodes=None):\n",
        "        x = self.lin_rbf(rbf) * x\n",
        "        # print(\"outputblock x:\", x.shape)\n",
        "        x = scatter(x, i, dim=0, dim_size=num_nodes)\n",
        "        # print(\"outputblock x:\", x.shape)\n",
        "        x = self.up_projection(x)\n",
        "        # print(\"outputblock x:\", x.shape)\n",
        "\n",
        "        for lin in self.lins:\n",
        "            x = self.act(lin(x))\n",
        "        return self.lin(x)\n",
        "\n",
        "\n",
        "class DimeNet(torch.nn.Module):\n",
        "    r\"\"\"The directional message passing neural network (DimeNet) from the\n",
        "    `\"Directional Message Passing for Molecular Graphs\"\n",
        "    <https://arxiv.org/abs/2003.03123>`_ paper.\n",
        "    DimeNet transforms messages based on the angle between them in a\n",
        "    rotation-equivariant fashion.\n",
        "    .. note::\n",
        "        For an example of using a pretrained DimeNet variant, see\n",
        "        `examples/qm9_pretrained_dimenet.py\n",
        "        <https://github.com/rusty1s/pytorch_geometric/blob/master/examples/\n",
        "        qm9_pretrained_dimenet.py>`_.\n",
        "    Args:\n",
        "        hidden_channels (int): Hidden embedding size.\n",
        "        out_channels (int): Size of each output sample.\n",
        "        num_blocks (int): Number of building blocks.\n",
        "        num_bilinear (int): Size of the bilinear layer tensor.\n",
        "        num_spherical (int): Number of spherical harmonics.\n",
        "        num_radial (int): Number of radial basis functions.\n",
        "        cutoff: (float, optional): Cutoff distance for interatomic\n",
        "            interactions. (default: :obj:`5.0`)\n",
        "        envelope_exponent (int, optional): Shape of the smooth cutoff.\n",
        "            (default: :obj:`5`)\n",
        "        num_before_skip: (int, optional): Number of residual layers in the\n",
        "            interaction blocks before the skip connection. (default: :obj:`1`)\n",
        "        num_after_skip: (int, optional): Number of residual layers in the\n",
        "            interaction blocks after the skip connection. (default: :obj:`2`)\n",
        "        num_output_layers: (int, optional): Number of linear layers for the\n",
        "            output blocks. (default: :obj:`3`)\n",
        "        act: (function, optional): The activation funtion.\n",
        "            (default: :obj:`swish`)\n",
        "    \"\"\"\n",
        "\n",
        "    url = 'https://github.com/klicperajo/dimenet/raw/master/pretrained'\n",
        "\n",
        "    def __init__(self, hidden_channels, out_channels, num_blocks, num_bilinear,\n",
        "                 out_emb_size, int_emb_size, basis_emb_size, num_spherical,\n",
        "                 num_radial, cutoff=5.0, envelope_exponent=5,\n",
        "                 num_before_skip=1, num_after_skip=2, num_output_layers=3,\n",
        "                 act=swish):\n",
        "        super(DimeNet, self).__init__()\n",
        "\n",
        "        self.cutoff = cutoff\n",
        "\n",
        "        if sym is None:\n",
        "            raise ImportError('Package `sympy` could not be found.')\n",
        "\n",
        "        self.num_blocks = num_blocks\n",
        "\n",
        "        # Cosine basis function expansion layer\n",
        "        self.rbf = BesselBasisLayer(num_radial, cutoff, envelope_exponent)\n",
        "        self.sbf = SphericalBasisLayer(num_spherical, num_radial, cutoff,\n",
        "                                       envelope_exponent)\n",
        "\n",
        "        # Embedding and output blocks\n",
        "        self.emb = EmbeddingBlock(num_radial, hidden_channels, act)\n",
        "        self.element_emb = Embedder(hidden_channels)\n",
        "\n",
        "        self.output_blocks = torch.nn.ModuleList([\n",
        "            OutputBlock(num_radial, hidden_channels, out_emb_size,\n",
        "                        out_channels,\n",
        "                        num_output_layers, act) for _ in range(num_blocks + 1)\n",
        "        ])\n",
        "        self.scaler = nn.parameter.Parameter(torch.tensor([1.]))\n",
        "\n",
        "        # Interaction blocks\n",
        "        self.interaction_blocks = torch.nn.ModuleList([\n",
        "            InteractionBlock(hidden_channels,\n",
        "                             int_emb_size,\n",
        "                             basis_emb_size,\n",
        "                             num_bilinear, num_spherical,\n",
        "                             num_radial, num_before_skip, num_after_skip, act)\n",
        "            for _ in range(num_blocks)\n",
        "        ])\n",
        "\n",
        "        self.reset_parameters()\n",
        "\n",
        "    def reset_parameters(self):\n",
        "        self.rbf.reset_parameters()\n",
        "        self.emb.reset_parameters()\n",
        "        for out in self.output_blocks:\n",
        "            out.reset_parameters()\n",
        "        for interaction in self.interaction_blocks:\n",
        "            interaction.reset_parameters()\n",
        "\n",
        "    def triplets(self, edge_index, num_nodes):\n",
        "        row, col = edge_index  # j->i\n",
        "\n",
        "        value = torch.arange(row.size(0), device=row.device)\n",
        "        adj_t = SparseTensor(row=col, col=row, value=value,\n",
        "                             sparse_sizes=(num_nodes, num_nodes))\n",
        "        adj_t_row = adj_t[row]\n",
        "        num_triplets = adj_t_row.set_value(None).sum(dim=1).to(torch.long)\n",
        "\n",
        "        # Node indices (k->j->i) for triplets.\n",
        "        idx_i = col.repeat_interleave(num_triplets)\n",
        "        idx_j = row.repeat_interleave(num_triplets)\n",
        "        idx_k = adj_t_row.storage.col()\n",
        "        mask = idx_i != idx_k  # Remove i == k triplets.\n",
        "        idx_i, idx_j, idx_k = idx_i[mask], idx_j[mask], idx_k[mask]\n",
        "\n",
        "        # Edge indices (k-j, j->i) for triplets.\n",
        "        idx_kj = adj_t_row.storage.value()[mask]\n",
        "        idx_ji = adj_t_row.storage.row()[mask]\n",
        "\n",
        "        return col, row, idx_i, idx_j, idx_k, idx_kj, idx_ji\n",
        "\n",
        "    def forward(self, z, pos, batch=None):\n",
        "        \"\"\"\"\"\"\n",
        "        edge_index = radius_graph(pos, r=self.cutoff, batch=batch)\n",
        "\n",
        "        i, j, idx_i, idx_j, idx_k, idx_kj, idx_ji = self.triplets(\n",
        "            edge_index, num_nodes=z.size(0))\n",
        "\n",
        "        # Calculate distances.\n",
        "        dist = (pos[i] - pos[j]).pow(2).sum(dim=-1).sqrt()\n",
        "\n",
        "        # Calculate angles -- revised version\n",
        "        pos_i = pos[idx_i]\n",
        "        pos_j = pos[idx_j]\n",
        "        pos_k = pos[idx_k]\n",
        "\n",
        "        pos_ji = pos_j - pos_i\n",
        "        pos_kj = pos_k - pos_j\n",
        "\n",
        "        a = (pos_ji * pos_kj).sum(dim=-1)\n",
        "        b = torch.cross(pos_ji, pos_kj).norm(dim=-1)\n",
        "        angle = torch.atan2(b, a)\n",
        "\n",
        "        rbf = self.rbf(dist)\n",
        "        # print('rbf shape', rbf.shape)\n",
        "        sbf = self.sbf(dist, angle, idx_kj)\n",
        "\n",
        "        # Embedding block.\n",
        "        x = self.emb(z, rbf, i, j)  # embed atomic numbers\n",
        "        ebfv = self.element_emb(z, i) * (2**(1-self.scaler)**2)  # mat2vec\n",
        "        x = x + ebfv  # atomic numbers now have domain-relevant features\n",
        "\n",
        "        P = self.output_blocks[0](x, rbf, i, num_nodes=pos.size(0))\n",
        "\n",
        "        # Interaction blocks.\n",
        "        for interaction_block, output_block in zip(self.interaction_blocks,\n",
        "                                                   self.output_blocks[1:]):\n",
        "            x = interaction_block(x, rbf, sbf, idx_kj, idx_ji)\n",
        "            P += output_block(x, rbf, i)\n",
        "\n",
        "        return P.sum(dim=0) if batch is None else scatter(P, batch, dim=0)"
      ],
      "execution_count": 4,
      "outputs": []
    },
    {
      "cell_type": "code",
      "metadata": {
        "id": "KLPH-mEpWM0Z"
      },
      "source": [
        "# validation inference loop\n",
        "def val_inference(model, loader):\n",
        "    y_preds = []\n",
        "    y_actual = []\n",
        "\n",
        "    for data in tqdm(loader, leave=False):\n",
        "        data = data.to(device)\n",
        "\n",
        "        # get prediction\n",
        "        with torch.no_grad():\n",
        "            pred = model(data.z, data.pos, data.batch)\n",
        "\n",
        "        y_preds.append(pred.view(-1))\n",
        "        y_actual.append(data.y)\n",
        "\n",
        "    y_preds = torch.cat(y_preds, dim=0).detach().cpu()\n",
        "    y_actual = torch.cat(y_actual, dim=0).detach().cpu()\n",
        "\n",
        "    mae = MAE(y_actual, y_preds)\n",
        "    r2 = r2_score(y_actual, y_preds)\n",
        "\n",
        "    print()\n",
        "    print(f'Validating... '\n",
        "          f'MAE: {mae:.3f}, '\n",
        "          f'R2: {r2:.3f} on val_dataset, '\n",
        "          f'completed at {datetime.datetime.now().strftime(\"%H:%M\")}')\n",
        "    return y_actual, y_preds, mae, r2\n",
        "\n",
        "\n",
        "# test inference loop\n",
        "def test_inference(model, loader):\n",
        "    y_test, y_test_pred, mae, r2 = val_inference(model, loader)\n",
        "    print(f'\\nTest Results:\\tMAE: {mae:.3f}, R2: {r2:.3f}')\n",
        "    return y_test.numpy(), y_test_pred.numpy(), mae, r2"
      ],
      "execution_count": 5,
      "outputs": []
    },
    {
      "cell_type": "code",
      "metadata": {
        "id": "SDolCOZ6WybY"
      },
      "source": [
        "def act_pred(y_act, y_pred, target, r2, mae,\n",
        "             name='example',\n",
        "             x_hist=True,\n",
        "             y_hist=True,\n",
        "             save_dir=None):\n",
        "\n",
        "    mec = '#2F4F4F'\n",
        "    mfc = '#C0C0C0'\n",
        "\n",
        "    plt.figure(1, figsize=(6, 6), dpi=300)\n",
        "    left, width = 0.1, 0.65\n",
        "\n",
        "    bottom, height = 0.1, 0.65\n",
        "    bottom_h = left_h = left + width\n",
        "    rect_scatter = [left, bottom, width, height]\n",
        "    rect_histx = [left, bottom_h, width, 0.15]\n",
        "    rect_histy = [left_h, bottom, 0.15, height]\n",
        "\n",
        "    ax2 = plt.axes(rect_scatter)\n",
        "    ax2.tick_params(direction='in',\n",
        "                    length=7,\n",
        "                    top=True,\n",
        "                    right=True)\n",
        "\n",
        "    # add minor ticks\n",
        "    minor_locator_x = AutoMinorLocator(2)\n",
        "    minor_locator_y = AutoMinorLocator(2)\n",
        "    ax2.get_xaxis().set_minor_locator(minor_locator_x)\n",
        "    ax2.get_yaxis().set_minor_locator(minor_locator_y)\n",
        "    plt.tick_params(which='minor',\n",
        "                    direction='in',\n",
        "                    length=4,\n",
        "                    right=True,\n",
        "                    top=True)\n",
        "\n",
        "    # feel free to change the colors here.\n",
        "    ax2.plot(y_act, y_pred, 'o', mfc='lightblue', alpha=0.5, label=None,\n",
        "             mec='dimgrey', mew=1.2, ms=7)\n",
        "    ax2.plot([-10**9, 10**9], [-10**9, 10**9], 'k--', alpha=0.8, lw=1.5,\n",
        "             label='Ideal')\n",
        "\n",
        "    label_units = {'matbench_jdft2d': 'E Exfol. [eV/atom]',\n",
        "                   'matbench_phonons': 'PhDOS Peak [1/cm]',\n",
        "                   'matbench_dielectric': '$n$',\n",
        "                   'matbench_log_kvrh': 'log$(K)$ [log(GPa)]',\n",
        "                   'matbench_log_gvrh': 'log$(G)$ [log(GPa)]',\n",
        "                   'matbench_perovskites': '$E_{form}$ [eV]',\n",
        "                   'matbench_mp_gap': '$E_{g}$ [eV]',\n",
        "                   'matbench_mp_is_metal': 'Metallicity',\n",
        "                   'matbench_mp_e_form': '$E_{form}$ [eV/atom]'}\n",
        "    lab = label_units[target]\n",
        "\n",
        "    ax2.set_ylabel(f'Predicted {lab}')\n",
        "    ax2.set_xlabel(f'Actual {lab}')\n",
        "    x_range = max(y_act) - min(y_act)\n",
        "    ax2.set_xlim(max(y_act) - x_range*1.05,\n",
        "                 min(y_act) + x_range*1.05)\n",
        "\n",
        "    ax2.set_ylim(max(y_act) - x_range*1.05,\n",
        "                 min(y_act) + x_range*1.05)\n",
        "\n",
        "    ax1 = plt.axes(rect_histx)\n",
        "    ax1_n, ax1_bins, ax1_patches = ax1.hist(y_act,\n",
        "                                            bins=31,\n",
        "                                            density=True,\n",
        "                                            color=mfc,\n",
        "                                            edgecolor='black',\n",
        "                                            alpha=0)\n",
        "    ax1.set_xticks([])\n",
        "    ax1.set_yticks([])\n",
        "    ax1.set_xlim(ax2.get_xlim())\n",
        "    ax1.axis('off')\n",
        "\n",
        "    if x_hist:\n",
        "        [p.set_alpha(1.0) for p in ax1_patches]\n",
        "\n",
        "    ax3 = plt.axes(rect_histy)\n",
        "    ax3_n, ax3_bins, ax3_patches = ax3.hist(y_pred,\n",
        "                                            bins=31,\n",
        "                                            density=True,\n",
        "                                            color=mfc,\n",
        "                                            edgecolor='black',\n",
        "                                            orientation='horizontal',\n",
        "                                            alpha=0)\n",
        "    ax3.set_xticks([])\n",
        "    ax3.set_yticks([])\n",
        "    ax3.set_ylim(ax2.get_ylim())\n",
        "    ax3.axis('off')\n",
        "\n",
        "    if y_hist:\n",
        "        [p.set_alpha(1.0) for p in ax3_patches]\n",
        "    \n",
        "    ax2.text(0, 2.3, f'$R^2={r2:.3f}$')\n",
        "    ax2.text(0, 2.1, f'MAE$={mae:.3f}$')\n",
        "    ax2.legend(loc='lower right', framealpha=0.35, handlelength=1.5)\n",
        "    plt.draw()\n",
        "\n",
        "    if save_dir is not None:\n",
        "        fig_name = f'{save_dir}/{name}_act_pred.png'\n",
        "        os.makedirs(save_dir, exist_ok=True)\n",
        "        plt.savefig(fig_name, bbox_inches='tight', dpi=300)\n",
        "    # plt.draw()\n",
        "    # plt.pause(0.001)\n",
        "    # plt.close()\n",
        "    plt.show()"
      ],
      "execution_count": 6,
      "outputs": []
    },
    {
      "cell_type": "code",
      "metadata": {
        "id": "nf1x2iClWr41"
      },
      "source": [
        "def loss_curve(x_data, train_err, val_err, name='example', save_dir=None):\n",
        "\n",
        "    mec1 = 'black'\n",
        "    mfc1 = '#003f5c'\n",
        "    mec2 = 'maroon'\n",
        "    mfc2 = 'pink'\n",
        "\n",
        "    fig, ax = plt.subplots(figsize=(6, 6), dpi=300)\n",
        "\n",
        "    ax.plot(x_data, train_err, marker='o', ms=8, markevery=10, mfc='steelblue',\n",
        "            mec='black', linestyle='-', lw=2, color='#003f5c', alpha=0.8,\n",
        "            label='train')\n",
        "    ax.plot(x_data, val_err, '-', color=mec2, lw=2, alpha=0.9,\n",
        "            label='validation')\n",
        "\n",
        "    ax.set_xlabel('Epochs')\n",
        "    ax.set_ylabel('MAE')\n",
        "    ax.set_ylim(0, 2 * np.mean(val_err))\n",
        "\n",
        "    ax.legend(loc=1, framealpha=0.35, handlelength=1.5)\n",
        "\n",
        "    minor_locator_x = AutoMinorLocator(2)\n",
        "    minor_locator_y = AutoMinorLocator(2)\n",
        "    ax.get_xaxis().set_minor_locator(minor_locator_x)\n",
        "    ax.get_yaxis().set_minor_locator(minor_locator_y)\n",
        "\n",
        "    ax.tick_params(right=True,\n",
        "                   top=True,\n",
        "                   direction='in',\n",
        "                   length=7)\n",
        "    ax.tick_params(which='minor',\n",
        "                   right=True,\n",
        "                   top=True,\n",
        "                   direction='in',\n",
        "                   length=4)\n",
        "\n",
        "    if save_dir is not None:\n",
        "        fig_name = f'{save_dir}/{name}_loss_curve.png'\n",
        "        os.makedirs(save_dir, exist_ok=True)\n",
        "        plt.savefig(fig_name, bbox_inches='tight', dpi=300)\n",
        "    plt.show()"
      ],
      "execution_count": 7,
      "outputs": []
    },
    {
      "cell_type": "code",
      "metadata": {
        "id": "YeTmUWtOalxJ",
        "colab": {
          "base_uri": "https://localhost:8080/"
        },
        "outputId": "468578e1-503d-4544-f019-19267c0baef3"
      },
      "source": [
        "!ls \"/content/drive/My Drive\""
      ],
      "execution_count": 8,
      "outputs": [
        {
          "output_type": "stream",
          "text": [
            "'Colab Notebooks'\n",
            "'Copy of MSE Senior Project Charter.docx'\n",
            " DimeNet\n",
            "'Materials for Energy Notes.gdoc'\n",
            " Misc\n",
            "'MSE 3061 Project'\n",
            " Persuasive.gdoc\n",
            "'Structural Analysis of Materials Notes.gdoc'\n",
            "'Technical Report Notes.gdoc'\n",
            " University\n",
            " UROP\n",
            "'XRD SOP.gdoc'\n"
          ],
          "name": "stdout"
        }
      ]
    },
    {
      "cell_type": "code",
      "metadata": {
        "id": "J16YP1VadhKx",
        "colab": {
          "base_uri": "https://localhost:8080/",
          "height": 35
        },
        "outputId": "58fe2533-7b29-457e-dc1f-eaf7d7317e03"
      },
      "source": [
        "torch.cuda.get_device_name(0)"
      ],
      "execution_count": 9,
      "outputs": [
        {
          "output_type": "execute_result",
          "data": {
            "application/vnd.google.colaboratory.intrinsic+json": {
              "type": "string"
            },
            "text/plain": [
              "'Tesla P100-PCIE-16GB'"
            ]
          },
          "metadata": {
            "tags": []
          },
          "execution_count": 9
        }
      ]
    },
    {
      "cell_type": "code",
      "metadata": {
        "id": "XFHgZxoYW9Sn"
      },
      "source": [
        "criterion = nn.L1Loss()\n",
        "\n",
        "device = torch.device('cuda')\n",
        "\n",
        "datasets = ['matbench_jdft2d', 'matbench_phonons', 'matbench_dielectric',\n",
        "            'matbench_log_kvrh', 'matbench_log_gvrh', 'matbench_perovskites',\n",
        "            'matbench_mp_gap', 'matbench_mp_is_metal', 'matbench_mp_e_form']\n",
        "\n",
        "dataset = 'matbench_log_gvrh'\n",
        "path = 'drive/My Drive/DimeNet/min_double'\n",
        "\n",
        "full_data = np.load(f'{path}/{dataset}.npy',\n",
        "                    allow_pickle=True).tolist()\n",
        "\n",
        "new_data = []\n",
        "for cif in full_data:\n",
        "    # n = cif['N']\n",
        "    # formula = cif['formula']\n",
        "    pos = cif['R']\n",
        "    z = cif['Z']\n",
        "    y = cif['Y']\n",
        "    new_data.append(Data(\n",
        "        z=torch.tensor(z, dtype=torch.long).reshape(-1),\n",
        "        y=torch.tensor(y, dtype=torch.float),\n",
        "        # n=torch.tensor(n, dtype=torch.long).reshape(-1),\n",
        "        pos=torch.tensor(pos, dtype=torch.float),\n",
        "        # formula=formula\n",
        "        ))\n",
        "\n",
        "# 60/20/20 split for the training, validation, and test dataset\n",
        "random_state = np.random.RandomState(seed=42)\n",
        "length = len(new_data)\n",
        "a = round(0.6 * length)\n",
        "b = round(0.2 * length)\n",
        "perm = list(random_state.permutation(np.arange(len(new_data))))\n",
        "train_idx = perm[:a]\n",
        "val_idx = perm[a:a+b]\n",
        "test_idx = perm[a+b:]\n",
        "\n",
        "mat_train = [new_data[i] for i in train_idx]\n",
        "mat_val = [new_data[i] for i in val_idx]\n",
        "mat_test = [new_data[i] for i in test_idx]\n",
        "\n",
        "materials_data = mat_train\n",
        "\n",
        "model = DimeNet(hidden_channels=128, out_channels=1, num_blocks=4,\n",
        "                num_bilinear=8,\n",
        "                out_emb_size=256, int_emb_size=64, basis_emb_size=8,\n",
        "                num_spherical=7, num_radial=6,\n",
        "                cutoff=6.0, envelope_exponent=5, num_before_skip=1,\n",
        "                num_after_skip=2, num_output_layers=3)\n",
        "\n",
        "model = model.to(device)"
      ],
      "execution_count": 10,
      "outputs": []
    },
    {
      "cell_type": "code",
      "metadata": {
        "id": "kE8Tx_5tvQDR"
      },
      "source": [
        "epochs = 200\n",
        "batch_size = 16\n",
        "loader = DataLoader(materials_data, batch_size=batch_size)\n",
        "val_loader = DataLoader(mat_val, batch_size=batch_size)"
      ],
      "execution_count": 11,
      "outputs": []
    },
    {
      "cell_type": "code",
      "metadata": {
        "id": "F4qVwvwlepus"
      },
      "source": [
        "optimizer = optim.AdamW(model.parameters(),\n",
        "                        weight_decay=0.01, amsgrad=True)\n",
        "\n",
        "lr_scheduler = optim.lr_scheduler.CyclicLR(optimizer,\n",
        "                                           base_lr=1e-4,\n",
        "                                           max_lr=2e-3,\n",
        "                                           cycle_momentum=False,\n",
        "                                           mode='triangular2',\n",
        "                                           step_size_up=4*len(loader))\n",
        "# n * len(loader) means it'll take n epochs in the step-up (half triangle)"
      ],
      "execution_count": 12,
      "outputs": []
    },
    {
      "cell_type": "code",
      "metadata": {
        "id": "tVsFQG-HZQvu",
        "colab": {
          "base_uri": "https://localhost:8080/"
        },
        "outputId": "4b654b3c-c53e-42ba-ae36-95ce2f696075"
      },
      "source": [
        "print(f'Started training at {datetime.datetime.now().strftime(\"%H:%M\")}')\n",
        "print(\"See you in 10 years (ノ͡° ͜ʖ ͡°)ノ︵┻┻\\n\")\n",
        "\n",
        "r2_train = []\n",
        "mae_train = []\n",
        "\n",
        "r2_val = []\n",
        "mae_val = []\n",
        "\n",
        "e = []\n",
        "\n",
        "for epoch in range(1, epochs + 1):  # unlike targets, indexing starts at 1\n",
        "\n",
        "    y_preds = []\n",
        "    y_actual = []\n",
        "\n",
        "    # lr_scheduler.step()\n",
        "    # if epoch >= 0.5 * epochs:\n",
        "    #     lr_scheduler.step()\n",
        "\n",
        "    for data in tqdm(loader, leave=False, total=len(loader)):\n",
        "        data = data.to(device)\n",
        "        optimizer.zero_grad()\n",
        "        pred = model(data.z, data.pos, data.batch)\n",
        "\n",
        "        y_preds.append(pred.view(-1))\n",
        "        y_actual.append(data.y)\n",
        "\n",
        "        loss = criterion(pred.view(-1), data.y)\n",
        "        loss.backward()\n",
        "        optimizer.step()\n",
        "        lr_scheduler.step()\n",
        "        # warmup_scheduler.dampen()\n",
        "\n",
        "    y_preds = torch.cat(y_preds, dim=0).detach().cpu()\n",
        "    y_actual = torch.cat(y_actual, dim=0).detach().cpu()\n",
        "\n",
        "    r2 = r2_score(y_actual, y_preds)\n",
        "    mae = MAE(y_actual, y_preds)\n",
        "\n",
        "    r2_train.append(r2)\n",
        "    mae_train.append(mae)\n",
        "    e.append(epoch)\n",
        "    print()\n",
        "    print(f'Epoch: {epoch:02d}, '\n",
        "          f'MAE: {mae:.3f}, '\n",
        "          f'R2: {r2:.3f}, '\n",
        "          f'completed at {datetime.datetime.now().strftime(\"%H:%M\")}')\n",
        "\n",
        "    # validation inference\n",
        "    y_val, y_val_pred, mae_v, r2_v = val_inference(model, val_loader)\n",
        "    mae_val.append(mae_v)\n",
        "    r2_val.append(r2_v)\n",
        "\n",
        "    date = datetime.date.today().strftime('%m-%d')\n",
        "    if epoch % 20 == 0:\n",
        "      print(f'Saved model weights for epoch {epoch}')\n",
        "      path = 'drive/My Drive/DimeNet/saves'\n",
        "      torch.save(model.state_dict(),\n",
        "                 f'{path}/{dataset}/model_{date}_{epoch}.pt')\n",
        "      torch.save(optimizer.state_dict(),\n",
        "                 f'{path}/{dataset}/optimizer_{date}_{epoch}.pt')\n",
        "      torch.save(lr_scheduler.state_dict(),\n",
        "                 f'{path}/{dataset}/lrscheduler_{date}_{epoch}.pt')"
      ],
      "execution_count": null,
      "outputs": [
        {
          "output_type": "stream",
          "text": [
            "\r  0%|          | 0/412 [00:00<?, ?it/s]"
          ],
          "name": "stderr"
        },
        {
          "output_type": "stream",
          "text": [
            "Started training at 22:57\n",
            "See you in 10 years (ノ͡° ͜ʖ ͡°)ノ︵┻┻\n",
            "\n"
          ],
          "name": "stdout"
        },
        {
          "output_type": "stream",
          "text": [
            "  1%|          | 1/138 [00:00<00:18,  7.35it/s]"
          ],
          "name": "stderr"
        },
        {
          "output_type": "stream",
          "text": [
            "\n",
            "Epoch: 01, MAE: 0.389, R2: -5.095, completed at 23:00\n"
          ],
          "name": "stdout"
        },
        {
          "output_type": "stream",
          "text": [
            "  0%|          | 0/412 [00:00<?, ?it/s]"
          ],
          "name": "stderr"
        },
        {
          "output_type": "stream",
          "text": [
            "\n",
            "Validating... MAE: 0.283, R2: -0.101 on val_dataset, completed at 23:00\n"
          ],
          "name": "stdout"
        },
        {
          "output_type": "stream",
          "text": [
            "  1%|          | 1/138 [00:00<00:18,  7.47it/s]"
          ],
          "name": "stderr"
        },
        {
          "output_type": "stream",
          "text": [
            "\n",
            "Epoch: 02, MAE: 0.310, R2: -0.216, completed at 23:03\n"
          ],
          "name": "stdout"
        },
        {
          "output_type": "stream",
          "text": [
            "  0%|          | 0/412 [00:00<?, ?it/s]"
          ],
          "name": "stderr"
        },
        {
          "output_type": "stream",
          "text": [
            "\n",
            "Validating... MAE: 0.269, R2: 0.202 on val_dataset, completed at 23:04\n"
          ],
          "name": "stdout"
        },
        {
          "output_type": "stream",
          "text": [
            "  1%|          | 1/138 [00:00<00:18,  7.48it/s]"
          ],
          "name": "stderr"
        },
        {
          "output_type": "stream",
          "text": [
            "\n",
            "Epoch: 03, MAE: 0.252, R2: 0.200, completed at 23:07\n"
          ],
          "name": "stdout"
        },
        {
          "output_type": "stream",
          "text": [
            "  0%|          | 0/412 [00:00<?, ?it/s]"
          ],
          "name": "stderr"
        },
        {
          "output_type": "stream",
          "text": [
            "\n",
            "Validating... MAE: 0.265, R2: 0.129 on val_dataset, completed at 23:07\n"
          ],
          "name": "stdout"
        },
        {
          "output_type": "stream",
          "text": [
            "  1%|          | 1/138 [00:00<00:18,  7.47it/s]"
          ],
          "name": "stderr"
        },
        {
          "output_type": "stream",
          "text": [
            "\n",
            "Epoch: 04, MAE: 0.228, R2: 0.340, completed at 23:10\n"
          ],
          "name": "stdout"
        },
        {
          "output_type": "stream",
          "text": [
            "  0%|          | 0/412 [00:00<?, ?it/s]"
          ],
          "name": "stderr"
        },
        {
          "output_type": "stream",
          "text": [
            "\n",
            "Validating... MAE: 0.185, R2: 0.589 on val_dataset, completed at 23:10\n"
          ],
          "name": "stdout"
        },
        {
          "output_type": "stream",
          "text": [
            "  1%|          | 1/138 [00:00<00:18,  7.47it/s]"
          ],
          "name": "stderr"
        },
        {
          "output_type": "stream",
          "text": [
            "\n",
            "Epoch: 05, MAE: 0.186, R2: 0.549, completed at 23:13\n"
          ],
          "name": "stdout"
        },
        {
          "output_type": "stream",
          "text": [
            "  0%|          | 0/412 [00:00<?, ?it/s]"
          ],
          "name": "stderr"
        },
        {
          "output_type": "stream",
          "text": [
            "\n",
            "Validating... MAE: 0.207, R2: 0.456 on val_dataset, completed at 23:13\n"
          ],
          "name": "stdout"
        },
        {
          "output_type": "stream",
          "text": [
            "  1%|          | 1/138 [00:00<00:18,  7.47it/s]"
          ],
          "name": "stderr"
        },
        {
          "output_type": "stream",
          "text": [
            "\n",
            "Epoch: 06, MAE: 0.162, R2: 0.645, completed at 23:16\n"
          ],
          "name": "stdout"
        },
        {
          "output_type": "stream",
          "text": [
            "  0%|          | 0/412 [00:00<?, ?it/s]"
          ],
          "name": "stderr"
        },
        {
          "output_type": "stream",
          "text": [
            "\n",
            "Validating... MAE: 0.156, R2: 0.684 on val_dataset, completed at 23:17\n"
          ],
          "name": "stdout"
        },
        {
          "output_type": "stream",
          "text": [
            "  1%|          | 1/138 [00:00<00:18,  7.45it/s]"
          ],
          "name": "stderr"
        },
        {
          "output_type": "stream",
          "text": [
            "\n",
            "Epoch: 07, MAE: 0.140, R2: 0.724, completed at 23:20\n"
          ],
          "name": "stdout"
        },
        {
          "output_type": "stream",
          "text": [
            "  0%|          | 0/412 [00:00<?, ?it/s]"
          ],
          "name": "stderr"
        },
        {
          "output_type": "stream",
          "text": [
            "\n",
            "Validating... MAE: 0.147, R2: 0.690 on val_dataset, completed at 23:20\n"
          ],
          "name": "stdout"
        },
        {
          "output_type": "stream",
          "text": [
            "  1%|          | 1/138 [00:00<00:18,  7.43it/s]"
          ],
          "name": "stderr"
        },
        {
          "output_type": "stream",
          "text": [
            "\n",
            "Epoch: 08, MAE: 0.125, R2: 0.764, completed at 23:23\n"
          ],
          "name": "stdout"
        },
        {
          "output_type": "stream",
          "text": [
            "  0%|          | 0/412 [00:00<?, ?it/s]"
          ],
          "name": "stderr"
        },
        {
          "output_type": "stream",
          "text": [
            "\n",
            "Validating... MAE: 0.134, R2: 0.742 on val_dataset, completed at 23:23\n"
          ],
          "name": "stdout"
        },
        {
          "output_type": "stream",
          "text": [
            "  1%|          | 1/138 [00:00<00:18,  7.43it/s]"
          ],
          "name": "stderr"
        },
        {
          "output_type": "stream",
          "text": [
            "\n",
            "Epoch: 09, MAE: 0.115, R2: 0.791, completed at 23:26\n"
          ],
          "name": "stdout"
        },
        {
          "output_type": "stream",
          "text": [
            "  0%|          | 0/412 [00:00<?, ?it/s]"
          ],
          "name": "stderr"
        },
        {
          "output_type": "stream",
          "text": [
            "\n",
            "Validating... MAE: 0.135, R2: 0.737 on val_dataset, completed at 23:27\n"
          ],
          "name": "stdout"
        },
        {
          "output_type": "stream",
          "text": [
            "  1%|          | 1/138 [00:00<00:18,  7.46it/s]"
          ],
          "name": "stderr"
        },
        {
          "output_type": "stream",
          "text": [
            "\n",
            "Epoch: 10, MAE: 0.120, R2: 0.774, completed at 23:29\n"
          ],
          "name": "stdout"
        },
        {
          "output_type": "stream",
          "text": [
            "  0%|          | 0/412 [00:00<?, ?it/s]"
          ],
          "name": "stderr"
        },
        {
          "output_type": "stream",
          "text": [
            "\n",
            "Validating... MAE: 0.138, R2: 0.734 on val_dataset, completed at 23:30\n"
          ],
          "name": "stdout"
        },
        {
          "output_type": "stream",
          "text": [
            "  1%|          | 1/138 [00:00<00:18,  7.46it/s]"
          ],
          "name": "stderr"
        },
        {
          "output_type": "stream",
          "text": [
            "\n",
            "Epoch: 11, MAE: 0.123, R2: 0.772, completed at 23:33\n"
          ],
          "name": "stdout"
        },
        {
          "output_type": "stream",
          "text": [
            "  0%|          | 0/412 [00:00<?, ?it/s]"
          ],
          "name": "stderr"
        },
        {
          "output_type": "stream",
          "text": [
            "\n",
            "Validating... MAE: 0.143, R2: 0.723 on val_dataset, completed at 23:33\n"
          ],
          "name": "stdout"
        },
        {
          "output_type": "stream",
          "text": [
            "  1%|          | 1/138 [00:00<00:18,  7.43it/s]"
          ],
          "name": "stderr"
        },
        {
          "output_type": "stream",
          "text": [
            "\n",
            "Epoch: 12, MAE: 0.128, R2: 0.759, completed at 23:36\n"
          ],
          "name": "stdout"
        },
        {
          "output_type": "stream",
          "text": [
            "  0%|          | 0/412 [00:00<?, ?it/s]"
          ],
          "name": "stderr"
        },
        {
          "output_type": "stream",
          "text": [
            "\n",
            "Validating... MAE: 0.145, R2: 0.722 on val_dataset, completed at 23:36\n"
          ],
          "name": "stdout"
        },
        {
          "output_type": "stream",
          "text": [
            "  1%|          | 1/138 [00:00<00:18,  7.41it/s]"
          ],
          "name": "stderr"
        },
        {
          "output_type": "stream",
          "text": [
            "\n",
            "Epoch: 13, MAE: 0.128, R2: 0.761, completed at 23:39\n"
          ],
          "name": "stdout"
        },
        {
          "output_type": "stream",
          "text": [
            "  0%|          | 0/412 [00:00<?, ?it/s]"
          ],
          "name": "stderr"
        },
        {
          "output_type": "stream",
          "text": [
            "\n",
            "Validating... MAE: 0.143, R2: 0.730 on val_dataset, completed at 23:40\n"
          ],
          "name": "stdout"
        },
        {
          "output_type": "stream",
          "text": [
            "  1%|          | 1/138 [00:00<00:18,  7.40it/s]"
          ],
          "name": "stderr"
        },
        {
          "output_type": "stream",
          "text": [
            "\n",
            "Epoch: 14, MAE: 0.117, R2: 0.792, completed at 23:43\n"
          ],
          "name": "stdout"
        },
        {
          "output_type": "stream",
          "text": [
            "  0%|          | 0/412 [00:00<?, ?it/s]"
          ],
          "name": "stderr"
        },
        {
          "output_type": "stream",
          "text": [
            "\n",
            "Validating... MAE: 0.140, R2: 0.713 on val_dataset, completed at 23:43\n"
          ],
          "name": "stdout"
        },
        {
          "output_type": "stream",
          "text": [
            "  1%|          | 1/138 [00:00<00:18,  7.50it/s]"
          ],
          "name": "stderr"
        },
        {
          "output_type": "stream",
          "text": [
            "\n",
            "Epoch: 15, MAE: 0.108, R2: 0.814, completed at 23:46\n"
          ],
          "name": "stdout"
        },
        {
          "output_type": "stream",
          "text": [
            "  0%|          | 0/412 [00:00<?, ?it/s]"
          ],
          "name": "stderr"
        },
        {
          "output_type": "stream",
          "text": [
            "\n",
            "Validating... MAE: 0.133, R2: 0.748 on val_dataset, completed at 23:46\n"
          ],
          "name": "stdout"
        },
        {
          "output_type": "stream",
          "text": [
            "  1%|          | 1/138 [00:00<00:18,  7.44it/s]"
          ],
          "name": "stderr"
        },
        {
          "output_type": "stream",
          "text": [
            "\n",
            "Epoch: 16, MAE: 0.097, R2: 0.841, completed at 23:49\n"
          ],
          "name": "stdout"
        },
        {
          "output_type": "stream",
          "text": [
            "  0%|          | 0/412 [00:00<?, ?it/s]"
          ],
          "name": "stderr"
        },
        {
          "output_type": "stream",
          "text": [
            "\n",
            "Validating... MAE: 0.128, R2: 0.757 on val_dataset, completed at 23:49\n"
          ],
          "name": "stdout"
        },
        {
          "output_type": "stream",
          "text": [
            "  1%|          | 1/138 [00:00<00:18,  7.46it/s]"
          ],
          "name": "stderr"
        },
        {
          "output_type": "stream",
          "text": [
            "\n",
            "Epoch: 17, MAE: 0.091, R2: 0.853, completed at 23:52\n"
          ],
          "name": "stdout"
        },
        {
          "output_type": "stream",
          "text": [
            "  0%|          | 0/412 [00:00<?, ?it/s]"
          ],
          "name": "stderr"
        },
        {
          "output_type": "stream",
          "text": [
            "\n",
            "Validating... MAE: 0.129, R2: 0.752 on val_dataset, completed at 23:53\n"
          ],
          "name": "stdout"
        },
        {
          "output_type": "stream",
          "text": [
            "  1%|          | 1/138 [00:00<00:18,  7.35it/s]"
          ],
          "name": "stderr"
        },
        {
          "output_type": "stream",
          "text": [
            "\n",
            "Epoch: 18, MAE: 0.092, R2: 0.851, completed at 23:56\n"
          ],
          "name": "stdout"
        },
        {
          "output_type": "stream",
          "text": [
            "  0%|          | 0/412 [00:00<?, ?it/s]"
          ],
          "name": "stderr"
        },
        {
          "output_type": "stream",
          "text": [
            "\n",
            "Validating... MAE: 0.131, R2: 0.756 on val_dataset, completed at 23:56\n"
          ],
          "name": "stdout"
        },
        {
          "output_type": "stream",
          "text": [
            "  1%|          | 1/138 [00:00<00:18,  7.31it/s]"
          ],
          "name": "stderr"
        },
        {
          "output_type": "stream",
          "text": [
            "\n",
            "Epoch: 19, MAE: 0.096, R2: 0.845, completed at 23:59\n"
          ],
          "name": "stdout"
        },
        {
          "output_type": "stream",
          "text": [
            "  0%|          | 0/412 [00:00<?, ?it/s]"
          ],
          "name": "stderr"
        },
        {
          "output_type": "stream",
          "text": [
            "\n",
            "Validating... MAE: 0.132, R2: 0.749 on val_dataset, completed at 23:59\n"
          ],
          "name": "stdout"
        },
        {
          "output_type": "stream",
          "text": [
            "  1%|          | 1/138 [00:00<00:18,  7.37it/s]"
          ],
          "name": "stderr"
        },
        {
          "output_type": "stream",
          "text": [
            "\n",
            "Epoch: 20, MAE: 0.097, R2: 0.843, completed at 00:02\n"
          ],
          "name": "stdout"
        },
        {
          "output_type": "stream",
          "text": [
            "  0%|          | 0/412 [00:00<?, ?it/s]"
          ],
          "name": "stderr"
        },
        {
          "output_type": "stream",
          "text": [
            "\n",
            "Validating... MAE: 0.137, R2: 0.726 on val_dataset, completed at 00:02\n"
          ],
          "name": "stdout"
        },
        {
          "output_type": "stream",
          "text": [
            "  1%|          | 1/138 [00:00<00:18,  7.45it/s]"
          ],
          "name": "stderr"
        },
        {
          "output_type": "stream",
          "text": [
            "\n",
            "Epoch: 21, MAE: 0.098, R2: 0.843, completed at 00:05\n"
          ],
          "name": "stdout"
        },
        {
          "output_type": "stream",
          "text": [
            "  0%|          | 0/412 [00:00<?, ?it/s]"
          ],
          "name": "stderr"
        },
        {
          "output_type": "stream",
          "text": [
            "\n",
            "Validating... MAE: 0.140, R2: 0.724 on val_dataset, completed at 00:06\n"
          ],
          "name": "stdout"
        },
        {
          "output_type": "stream",
          "text": [
            "  1%|          | 1/138 [00:00<00:18,  7.42it/s]"
          ],
          "name": "stderr"
        },
        {
          "output_type": "stream",
          "text": [
            "\n",
            "Epoch: 22, MAE: 0.093, R2: 0.856, completed at 00:09\n"
          ],
          "name": "stdout"
        },
        {
          "output_type": "stream",
          "text": [
            "  0%|          | 0/412 [00:00<?, ?it/s]"
          ],
          "name": "stderr"
        },
        {
          "output_type": "stream",
          "text": [
            "\n",
            "Validating... MAE: 0.130, R2: 0.759 on val_dataset, completed at 00:09\n"
          ],
          "name": "stdout"
        },
        {
          "output_type": "stream",
          "text": [
            "  1%|          | 1/138 [00:00<00:18,  7.47it/s]"
          ],
          "name": "stderr"
        },
        {
          "output_type": "stream",
          "text": [
            "\n",
            "Epoch: 23, MAE: 0.085, R2: 0.873, completed at 00:12\n"
          ],
          "name": "stdout"
        },
        {
          "output_type": "stream",
          "text": [
            "  0%|          | 0/412 [00:00<?, ?it/s]"
          ],
          "name": "stderr"
        },
        {
          "output_type": "stream",
          "text": [
            "\n",
            "Validating... MAE: 0.130, R2: 0.759 on val_dataset, completed at 00:12\n"
          ],
          "name": "stdout"
        },
        {
          "output_type": "stream",
          "text": [
            "  1%|          | 1/138 [00:00<00:18,  7.36it/s]"
          ],
          "name": "stderr"
        },
        {
          "output_type": "stream",
          "text": [
            "\n",
            "Epoch: 24, MAE: 0.079, R2: 0.886, completed at 00:15\n"
          ],
          "name": "stdout"
        },
        {
          "output_type": "stream",
          "text": [
            "  0%|          | 0/412 [00:00<?, ?it/s]"
          ],
          "name": "stderr"
        },
        {
          "output_type": "stream",
          "text": [
            "\n",
            "Validating... MAE: 0.126, R2: 0.765 on val_dataset, completed at 00:15\n"
          ],
          "name": "stdout"
        },
        {
          "output_type": "stream",
          "text": [
            "  1%|          | 1/138 [00:00<00:18,  7.45it/s]"
          ],
          "name": "stderr"
        },
        {
          "output_type": "stream",
          "text": [
            "\n",
            "Epoch: 25, MAE: 0.075, R2: 0.894, completed at 00:18\n"
          ],
          "name": "stdout"
        },
        {
          "output_type": "stream",
          "text": [
            ""
          ],
          "name": "stderr"
        },
        {
          "output_type": "stream",
          "text": [
            "\n",
            "Validating... MAE: 0.129, R2: 0.761 on val_dataset, completed at 00:19\n",
            "Saved model weights for epoch 25\n"
          ],
          "name": "stdout"
        },
        {
          "output_type": "stream",
          "text": [
            "  1%|          | 1/138 [00:00<00:18,  7.46it/s]"
          ],
          "name": "stderr"
        },
        {
          "output_type": "stream",
          "text": [
            "\n",
            "Epoch: 26, MAE: 0.073, R2: 0.895, completed at 00:22\n"
          ],
          "name": "stdout"
        },
        {
          "output_type": "stream",
          "text": [
            "  0%|          | 0/412 [00:00<?, ?it/s]"
          ],
          "name": "stderr"
        },
        {
          "output_type": "stream",
          "text": [
            "\n",
            "Validating... MAE: 0.131, R2: 0.755 on val_dataset, completed at 00:22\n"
          ],
          "name": "stdout"
        },
        {
          "output_type": "stream",
          "text": [
            "  1%|          | 1/138 [00:00<00:18,  7.42it/s]"
          ],
          "name": "stderr"
        },
        {
          "output_type": "stream",
          "text": [
            "\n",
            "Epoch: 27, MAE: 0.075, R2: 0.895, completed at 00:25\n"
          ],
          "name": "stdout"
        },
        {
          "output_type": "stream",
          "text": [
            "  0%|          | 0/412 [00:00<?, ?it/s]"
          ],
          "name": "stderr"
        },
        {
          "output_type": "stream",
          "text": [
            "\n",
            "Validating... MAE: 0.132, R2: 0.743 on val_dataset, completed at 00:25\n"
          ],
          "name": "stdout"
        },
        {
          "output_type": "stream",
          "text": [
            "  1%|          | 1/138 [00:00<00:18,  7.53it/s]"
          ],
          "name": "stderr"
        },
        {
          "output_type": "stream",
          "text": [
            "\n",
            "Epoch: 28, MAE: 0.077, R2: 0.891, completed at 00:28\n"
          ],
          "name": "stdout"
        },
        {
          "output_type": "stream",
          "text": [
            "  0%|          | 0/412 [00:00<?, ?it/s]"
          ],
          "name": "stderr"
        },
        {
          "output_type": "stream",
          "text": [
            "\n",
            "Validating... MAE: 0.131, R2: 0.751 on val_dataset, completed at 00:28\n"
          ],
          "name": "stdout"
        },
        {
          "output_type": "stream",
          "text": [
            "  1%|          | 1/138 [00:00<00:18,  7.46it/s]"
          ],
          "name": "stderr"
        },
        {
          "output_type": "stream",
          "text": [
            "\n",
            "Epoch: 29, MAE: 0.077, R2: 0.894, completed at 00:31\n"
          ],
          "name": "stdout"
        },
        {
          "output_type": "stream",
          "text": [
            "  0%|          | 0/412 [00:00<?, ?it/s]"
          ],
          "name": "stderr"
        },
        {
          "output_type": "stream",
          "text": [
            "\n",
            "Validating... MAE: 0.136, R2: 0.746 on val_dataset, completed at 00:32\n"
          ],
          "name": "stdout"
        },
        {
          "output_type": "stream",
          "text": [
            "  1%|          | 1/138 [00:00<00:18,  7.46it/s]"
          ],
          "name": "stderr"
        },
        {
          "output_type": "stream",
          "text": [
            "\n",
            "Epoch: 30, MAE: 0.074, R2: 0.898, completed at 00:35\n"
          ],
          "name": "stdout"
        },
        {
          "output_type": "stream",
          "text": [
            "  0%|          | 0/412 [00:00<?, ?it/s]"
          ],
          "name": "stderr"
        },
        {
          "output_type": "stream",
          "text": [
            "\n",
            "Validating... MAE: 0.132, R2: 0.755 on val_dataset, completed at 00:35\n"
          ],
          "name": "stdout"
        },
        {
          "output_type": "stream",
          "text": [
            " 12%|█▏        | 49/412 [00:21<02:37,  2.30it/s]"
          ],
          "name": "stderr"
        }
      ]
    },
    {
      "cell_type": "code",
      "metadata": {
        "id": "047TcK67-7DV"
      },
      "source": [
        "# Test the model and save summary\n",
        "test_loader = DataLoader(mat_test, batch_size=batch_size)\n",
        "actual, predicted, mae_test, r2_test = test_inference(model, test_loader)\n",
        "train_val = pd.DataFrame({'epoch': e,\n",
        "                          'mae_train': mae_train,\n",
        "                          'mae_val': mae_val,\n",
        "                          'r2_train': r2_train,\n",
        "                          'r2_val': r2_val})\n",
        "test_results = pd.DataFrame({'mae_test': mae_test,\n",
        "                             'r2_test': r2_test},\n",
        "                            index=[0])\n",
        "summary = pd.concat([train_val, test_results], axis=1)\n",
        "path = 'drive/My Drive/DimeNet/saves/plots'\n",
        "date = datetime.date.today().strftime('%m-%d')\n",
        "summary.to_csv(f'{path}/{dataset}/mae_{date}.csv', index=False)\n",
        "\n",
        "# Loss curve\n",
        "loss_curve(summary['epoch'], summary['mae_train'], summary['mae_val'],\n",
        "           save_dir=path, name=f'{date}_{dataset}')\n",
        "\n",
        "# Test plot\n",
        "plt.rcParams.update({'font.size': 14})\n",
        "act_pred(actual, predicted, target=dataset, mae=mae_test, r2=r2_test,\n",
        "         save_dir=path, name=f'{date}_{dataset}')"
      ],
      "execution_count": null,
      "outputs": []
    }
  ]
}